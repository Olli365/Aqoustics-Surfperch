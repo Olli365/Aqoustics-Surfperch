{
 "cells": [
  {
   "cell_type": "code",
   "execution_count": 7,
   "metadata": {},
   "outputs": [],
   "source": [
    "# Install UMAP\n",
    "import umap"
   ]
  },
  {
   "cell_type": "code",
   "execution_count": 8,
   "metadata": {},
   "outputs": [],
   "source": [
    "#@title Import packages\n",
    "import os # for handling files and directories\n",
    "import librosa # for audio processing\n",
    "import tensorflow as tf # for machine learning\n",
    "import tensorflow_hub as hub # for machine learning\n",
    "import numpy as np # for numerical processing\n",
    "import pandas as pd # for handling dataframes\n",
    "from tqdm import tqdm # for progress bar\n",
    "import matplotlib.pyplot as plt # for potting\n",
    "from sklearn.cluster import KMeans # for clustering\n",
    "\n",
    "# To get reproducabel results, we set the seed\n",
    "random_seed = 0"
   ]
  },
  {
   "cell_type": "code",
   "execution_count": 9,
   "metadata": {},
   "outputs": [],
   "source": [
    "#@title Set all filepaths\n",
    "\n",
    "# Path where the csv of extracted features was saved\n",
    "features_df_path = '/home/os/aqoustics/Aqoustics-Surfperch/data/output_dir/surfperch_fish_feature_embeddings.csv'\n",
    "\n",
    "# Path where we will save an updated version of features_df, with added metadata\n",
    "features_metadata_path = '/home/os/aqoustics/Aqoustics-Surfperch/data/output_dir/reduced_fish_feature_embeddings.csv'\n",
    "\n",
    "# Path where we will save cluster results\n",
    "cluster_results_path = '/home/os/aqoustics/Aqoustics-Surfperch/data/output_dir/cluster_results.csv'"
   ]
  },
  {
   "cell_type": "code",
   "execution_count": null,
   "metadata": {},
   "outputs": [],
   "source": [
    "# Load the saved csv from gdrive as a dataframe\n",
    "features_df = pd.read_csv(features_df_path)\n",
    "\n",
    "features_df"
   ]
  },
  {
   "cell_type": "code",
   "execution_count": null,
   "metadata": {},
   "outputs": [],
   "source": [
    "def extract_metadata_from_filename(file):\n",
    "    # Split the filename using 'clip_ind_' as the delimiter\n",
    "    parts = file.split('clip_ind_')\n",
    "    \n",
    "    # Extract the first letter after 'clip_ind_' to determine the class_type\n",
    "    class_type = parts[1][0] if len(parts) > 1 else None\n",
    "    \n",
    "    return class_type\n",
    "\n",
    "\n",
    "# Applying the function to each filename in the DataFrame\n",
    "features_df[['class_type']] = features_df['filename'].apply(\n",
    "    lambda x: pd.Series(extract_metadata_from_filename(x))\n",
    ")\n",
    "\n",
    "# Arrange columns in desired order\n",
    "column_order = ['filename','class_type'] + \\\n",
    "               [col for col in features_df.columns if col.startswith('feature_')]\n",
    "features_metadata_df = features_df[column_order]\n",
    "\n",
    "# Save df\n",
    "features_metadata_df.to_csv(features_metadata_path, index = False)\n",
    "\n",
    "# Take a look\n",
    "features_metadata_df"
   ]
  },
  {
   "cell_type": "code",
   "execution_count": null,
   "metadata": {},
   "outputs": [],
   "source": [
    "import itertools\n",
    "import umap\n",
    "import matplotlib.pyplot as plt\n",
    "\n",
    "# Define your hyperparameter lists\n",
    "n_neighbors = [5, 6, 7, 8, 9, 10, 11, 12, 13, 14]\n",
    "min_dist = [0.1, 0.2, 0.3, 0.4, 0.5]\n",
    "n = [16, 32, 64]\n",
    "random_seed = 42  # Example random seed for reproducibility\n",
    "\n",
    "# Class and color mappings\n",
    "class_mapping = {'H': 'Healthy', 'D': 'Degraded', 'R': 'Restored', 'N': 'Newly-Restored'}\n",
    "color_mapping = {'Healthy': 'green', 'Degraded': 'red', 'Restored': 'blue', 'Newly-Restored': 'yellow'}\n",
    "\n",
    "# Loop over all combinations of n_neighbors, min_dist, and n\n",
    "for n_neighbor, min_d, n_components in itertools.product(n_neighbors, min_dist, n):\n",
    "    \n",
    "    # Step 1: First UMAP reduction to n_components dimensions\n",
    "    umap_reducer_1 = umap.UMAP(n_components=n_components, random_state=random_seed, n_neighbors=n_neighbor, min_dist=min_d)\n",
    "    reduced_features_128 = umap_reducer_1.fit_transform(features_metadata_df.iloc[:, 2:])\n",
    "    \n",
    "    # Optional: Second UMAP reduction to a specific number of dimensions (like 64), can uncomment and use if needed\n",
    "    # umap_reducer_2 = umap.UMAP(n_components=64, random_state=random_seed, n_neighbors=n_neighbor, min_dist=min_d)\n",
    "    # reduced_features_64 = umap_reducer_2.fit_transform(reduced_features_128)\n",
    "    \n",
    "    # Step 3: Third UMAP reduction to 2 dimensions for plotting\n",
    "    umap_reducer_3 = umap.UMAP(n_components=2, random_state=random_seed, n_neighbors=n_neighbor, min_dist=min_d)\n",
    "    umap_embeddings = umap_reducer_3.fit_transform(reduced_features_128)\n",
    "    \n",
    "    # Set up the plot\n",
    "    plt.figure(figsize=(10, 10))\n",
    "    \n",
    "    # Plot each class with its own color and label using the mapping\n",
    "    for class_type, label in class_mapping.items():\n",
    "        indices = features_metadata_df['class_type'] == class_type\n",
    "        plt.scatter(umap_embeddings[indices, 0], umap_embeddings[indices, 1], label=label,\n",
    "                    color=color_mapping[label], alpha=0.5)\n",
    "    \n",
    "    # Set title and labels\n",
    "    plt.title(f'UMAP Projection: n_neighbors={n_neighbor}, min_dist={min_d}, n_components={n_components}')\n",
    "    plt.xlabel('UMAP 1')\n",
    "    plt.ylabel('UMAP 2')\n",
    "    plt.legend(title='Class Label')\n",
    "    \n",
    "    # Show the plot\n",
    "    plt.show()\n",
    "\n",
    "    # You can save the plot if needed using the following line:\n",
    "    # plt.savefig(f'umap_projection_n_neighbors_{n_neighbor}_min_dist_{min_d}_n_components_{n_components}.png')\n"
   ]
  }
 ],
 "metadata": {
  "kernelspec": {
   "display_name": "perch",
   "language": "python",
   "name": "python3"
  },
  "language_info": {
   "codemirror_mode": {
    "name": "ipython",
    "version": 3
   },
   "file_extension": ".py",
   "mimetype": "text/x-python",
   "name": "python",
   "nbconvert_exporter": "python",
   "pygments_lexer": "ipython3",
   "version": "3.10.14"
  }
 },
 "nbformat": 4,
 "nbformat_minor": 2
}
